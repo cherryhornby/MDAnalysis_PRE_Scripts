{
 "cells": [
  {
   "cell_type": "code",
   "execution_count": null,
   "metadata": {},
   "outputs": [],
   "source": [
    "import pickle\n",
    "from matplotlib import pyplot as plt\n",
    "import numpy as np\n",
    "import math\n",
    "import pandas as pd"
   ]
  },
  {
   "cell_type": "code",
   "execution_count": null,
   "metadata": {},
   "outputs": [],
   "source": [
    "with open('./bioen_result.pkl', 'rb') as f:\n",
    "    data = pickle.load(f)"
   ]
  },
  {
   "cell_type": "code",
   "execution_count": null,
   "metadata": {},
   "outputs": [],
   "source": [
    "data"
   ]
  },
  {
   "cell_type": "code",
   "execution_count": null,
   "metadata": {},
   "outputs": [],
   "source": [
    "with open('./thetas.dat') as f:\n",
    "    thetas = [line.rstrip() for line in f]\n",
    "    \n",
    "thetas"
   ]
  },
  {
   "cell_type": "code",
   "execution_count": null,
   "metadata": {},
   "outputs": [],
   "source": [
    "thetas = ['']"
   ]
  },
  {
   "cell_type": "code",
   "execution_count": null,
   "metadata": {},
   "outputs": [],
   "source": []
  },
  {
   "cell_type": "code",
   "execution_count": null,
   "metadata": {},
   "outputs": [],
   "source": [
    "# L-curve plot\n",
    "\n",
    "chi_square = [data[float(thetas[0])][3]]\n",
    "for theta in thetas:\n",
    "    chi_square.append(data[float(theta)][2])\n",
    "\n",
    "chi_square = np.array((chi_square))\n",
    "reduced_chi_square = chi_square/121"
   ]
  },
  {
   "cell_type": "code",
   "execution_count": null,
   "metadata": {},
   "outputs": [],
   "source": [
    "chi_square"
   ]
  },
  {
   "cell_type": "code",
   "execution_count": null,
   "metadata": {},
   "outputs": [],
   "source": [
    "reduced_chi_square"
   ]
  },
  {
   "cell_type": "code",
   "execution_count": null,
   "metadata": {},
   "outputs": [],
   "source": [
    "S_KL = [0] # relative entropy = 0 for initial data before reweighting\n",
    "\n",
    "for theta in thetas:\n",
    "    skl = np.sum(np.array((data[float(theta)][18]))*np.log(np.array((data[float(theta)][18]/data[float(theta)][16]))))\n",
    "    S_KL.append(skl)\n",
    "    \n",
    "S_KL"
   ]
  },
  {
   "cell_type": "code",
   "execution_count": null,
   "metadata": {},
   "outputs": [],
   "source": [
    "print(S_KL[18])"
   ]
  },
  {
   "cell_type": "code",
   "execution_count": null,
   "metadata": {},
   "outputs": [],
   "source": [
    "%matplotlib inline\n",
    "plt.figure(figsize = (6,4))\n",
    "plt.plot(S_KL,reduced_chi_square,'x',color = 'black')\n",
    "plt.title('L-curve analysis')\n",
    "plt.ylabel('Reduced $\\chi$$^2$')\n",
    "plt.xlabel('Relative entropy $S_{KL}$')\n"
   ]
  },
  {
   "cell_type": "code",
   "execution_count": null,
   "metadata": {},
   "outputs": [],
   "source": [
    "start = 9\n",
    "end = 19\n",
    "\n",
    "\n",
    "y = list(reduced_chi_square)[start:end]\n",
    "\n",
    "x = S_KL[start:end]\n",
    "\n",
    "from kneed import KneeLocator\n",
    "kn = KneeLocator(x, y, curve='convex', direction='decreasing')\n",
    "print(kn.knee)\n",
    "\n",
    "import matplotlib.pyplot as plt\n",
    "plt.xlabel('number of clusters k')\n",
    "plt.ylabel('Sum of squared distances')\n",
    "plt.plot(x, y, 'bx-')\n",
    "plt.vlines(kn.knee, plt.ylim()[0], plt.ylim()[1], linestyles='dashed')"
   ]
  },
  {
   "cell_type": "code",
   "execution_count": null,
   "metadata": {},
   "outputs": [],
   "source": [
    "optimal_theta_idx = 18"
   ]
  },
  {
   "cell_type": "code",
   "execution_count": null,
   "metadata": {},
   "outputs": [],
   "source": [
    "np.exp(-0.3267974860657099)"
   ]
  },
  {
   "cell_type": "code",
   "execution_count": null,
   "metadata": {},
   "outputs": [],
   "source": [
    "plt.figure(figsize = (4,3))\n",
    "plt.plot(S_KL,reduced_chi_square,'x',color = 'black')\n",
    "plt.ylabel('Reduced $\\chi$$^2$')\n",
    "plt.xlabel('Relative entropy $S_{KL}$')\n",
    "plt.scatter(S_KL[optimal_theta_idx],reduced_chi_square[optimal_theta_idx],\n",
    "            color = 'blue',s=50,label = 'SBM: Optimised Ensemble')\n",
    "plt.scatter(S_KL[0],reduced_chi_square[0],color = 'green',s=50,label = 'SBM: Starting Ensemble')\n",
    "plt.legend(loc = 'upper right')\n",
    "plt.tight_layout()\n",
    "plt.savefig('lcurve_new.pdf')"
   ]
  },
  {
   "cell_type": "code",
   "execution_count": null,
   "metadata": {},
   "outputs": [],
   "source": [
    "w_opt = data[float(thetas[optimal_theta_idx])][18]"
   ]
  },
  {
   "cell_type": "code",
   "execution_count": null,
   "metadata": {},
   "outputs": [],
   "source": [
    "idx_top10 = sorted(range(len(w_opt)), key=lambda i: w_opt[i])[-10:]\n"
   ]
  },
  {
   "cell_type": "code",
   "execution_count": null,
   "metadata": {},
   "outputs": [],
   "source": [
    "idx_top10"
   ]
  },
  {
   "cell_type": "code",
   "execution_count": null,
   "metadata": {},
   "outputs": [],
   "source": [
    "for idx in idx_top10:\n",
    "    print(w_opt[idx])"
   ]
  },
  {
   "cell_type": "code",
   "execution_count": null,
   "metadata": {},
   "outputs": [],
   "source": [
    "np.max(w_opt)"
   ]
  },
  {
   "cell_type": "code",
   "execution_count": null,
   "metadata": {},
   "outputs": [],
   "source": [
    "# make frames text file with top 10 frame indices\n",
    "# writing frames file for making new trajectory file with gmx trajconv\n",
    "f = open('top10.ndx', 'w')\n",
    "f.write('[ frames ]\\n')  \n",
    "for idx in idx_top10:\n",
    "    string = '{}\\n'.format(idx+1) # python indexing starts at 0, gromacs indexing starts at 1\n",
    "    f.write(string)\n",
    "f.close()"
   ]
  },
  {
   "cell_type": "code",
   "execution_count": null,
   "metadata": {},
   "outputs": [],
   "source": [
    "# save w_opt\n",
    "\n",
    "np.save('w_opt.npy',w_opt)"
   ]
  },
  {
   "cell_type": "code",
   "execution_count": null,
   "metadata": {},
   "outputs": [],
   "source": [
    "rates_init = data[float(thetas[optimal_theta_idx])][13]\n",
    "rates_opt = data[float(thetas[optimal_theta_idx])][14]"
   ]
  },
  {
   "cell_type": "code",
   "execution_count": null,
   "metadata": {},
   "outputs": [],
   "source": [
    "for p_id, p_info in rates_init.items():\n",
    "    print(\"\\n Exp:\", p_id)\n",
    "    \n",
    "    for key in p_info:\n",
    "        print(key + ':', p_info[key])"
   ]
  },
  {
   "cell_type": "code",
   "execution_count": null,
   "metadata": {},
   "outputs": [],
   "source": [
    "r2_init = []\n",
    "for value in p_info.values():\n",
    "    r2_init.append(float(value))\n",
    "    \n",
    "r2_init_id = []\n",
    "for ID in p_info.keys():\n",
    "    r2_init_id.append(str(ID))\n"
   ]
  },
  {
   "cell_type": "code",
   "execution_count": null,
   "metadata": {},
   "outputs": [],
   "source": [
    "r2_init"
   ]
  },
  {
   "cell_type": "code",
   "execution_count": null,
   "metadata": {},
   "outputs": [],
   "source": [
    "r2_init_id"
   ]
  },
  {
   "cell_type": "code",
   "execution_count": null,
   "metadata": {},
   "outputs": [],
   "source": [
    "plt.plot(r2_init)\n",
    "plt.ylim(0,100)"
   ]
  },
  {
   "cell_type": "code",
   "execution_count": null,
   "metadata": {},
   "outputs": [],
   "source": [
    "for p_id, p_info in rates_opt.items():\n",
    "    print(\"\\n Exp:\", p_id)\n",
    "    \n",
    "    for key in p_info:\n",
    "        print(key + ':', p_info[key])"
   ]
  },
  {
   "cell_type": "code",
   "execution_count": null,
   "metadata": {},
   "outputs": [],
   "source": [
    "r2_opt = []\n",
    "for value in p_info.values():\n",
    "    r2_opt.append(float(value))\n",
    "    \n",
    "r2_opt_id = []\n",
    "for ID in p_info.keys():\n",
    "    r2_opt_id.append(str(ID))\n",
    "\n"
   ]
  },
  {
   "cell_type": "code",
   "execution_count": null,
   "metadata": {},
   "outputs": [],
   "source": [
    "plt.plot(r2_opt)\n",
    "plt.plot(r2_init)\n",
    "plt.ylim(0,100)"
   ]
  },
  {
   "cell_type": "code",
   "execution_count": null,
   "metadata": {},
   "outputs": [],
   "source": [
    "# calculate ratios\n",
    "# defining constants\n",
    "K = 1.23e-44 # m^6 s^-2\n",
    "tau_C = 5e-9 # tauC for disordered RNC, 12ns, in seconds\n",
    "larmor_H = 800.284e6*2*math.pi # s^-1, larmor frequency proton\n",
    "#t = 0.0111 # total evolution time of the transverse proton magnetization during the NMR experiment, 11.1ms, in seconds\n",
    "R2H = 100.0 # in s^-1\n",
    "R2MQ = 100.0 # in s^-1\n",
    "DELTA = 5.6e-3 # delay time in s\n",
    "\n",
    "\n"
   ]
  },
  {
   "cell_type": "code",
   "execution_count": null,
   "metadata": {},
   "outputs": [],
   "source": [
    "# calculate ratios\n",
    "ratios_init = (R2H*np.exp(-2*DELTA*np.array((r2_init)))/(R2H+np.array((r2_init))))*(R2MQ/(R2MQ+np.array((r2_init))))\n",
    "ratios_opt = (R2H*np.exp(-2*DELTA*np.array((r2_opt)))/(R2H+np.array((r2_opt))))*(R2MQ/(R2MQ+np.array((r2_opt))))\n",
    "\n"
   ]
  },
  {
   "cell_type": "code",
   "execution_count": null,
   "metadata": {},
   "outputs": [],
   "source": [
    "# construct a table\n",
    "\n",
    "all_data = pd.DataFrame(list(zip(r2_init_id, r2_init, r2_opt, ratios_init, ratios_opt)), \n",
    "                        columns =['ID', 'rate_init','rate_opt','ratios_init','ratios_opt']) "
   ]
  },
  {
   "cell_type": "code",
   "execution_count": null,
   "metadata": {},
   "outputs": [],
   "source": [
    "all_data"
   ]
  },
  {
   "cell_type": "code",
   "execution_count": null,
   "metadata": {},
   "outputs": [],
   "source": [
    "# load ratios experimental data\n",
    "ratios_c657 = pd.read_csv('./experimental_data/a3a3_c657_ratios_new.csv')\n",
    "ratios_c699 = pd.read_csv('./experimental_data/a3a3_c699_ratios_new.csv')\n",
    "ratios_c744 = pd.read_csv('./experimental_data/a3a3_c744_ratios_new.csv')"
   ]
  },
  {
   "cell_type": "code",
   "execution_count": null,
   "metadata": {},
   "outputs": [],
   "source": [
    "exp_ids = []\n",
    "for residue in ratios_c657['Residue']:\n",
    "    name = 'pre_c657_{}'.format(int(residue))\n",
    "    exp_ids.append(name)\n",
    "    \n",
    "for residue in ratios_c699['Residue']:\n",
    "    name = 'pre_c699_{}'.format(int(residue))\n",
    "    exp_ids.append(name)\n",
    "    \n",
    "for residue in ratios_c744['Residue']:\n",
    "    name = 'pre_c744_{}'.format(int(residue))\n",
    "    exp_ids.append(name)\n",
    "    \n",
    "exp_values = []\n",
    "for value in ratios_c657['Ratio_paramagnetic:diamagnetic']:\n",
    "    exp_values.append(value)\n",
    "    \n",
    "for value in ratios_c699['Ratio_paramagnetic:diamagnetic']:\n",
    "    exp_values.append(value)\n",
    "    \n",
    "for value in ratios_c744['Ratio_paramagnetic:diamagnetic']:\n",
    "    exp_values.append(value)\n",
    "\n",
    "    \n",
    "exp_errors = []\n",
    "for error in ratios_c657['Combined_error']:\n",
    "    exp_errors.append(error)\n",
    "    \n",
    "for error in ratios_c699['Combined_error']:\n",
    "    exp_errors.append(error)\n",
    "    \n",
    "for error in ratios_c744['Combined_error']:\n",
    "    exp_errors.append(error)\n",
    "    \n"
   ]
  },
  {
   "cell_type": "code",
   "execution_count": null,
   "metadata": {},
   "outputs": [],
   "source": [
    "restraint_idxs = []\n",
    "for i in range(len(exp_ids)):\n",
    "    name = exp_ids[i]\n",
    "    \n",
    "    if name in r2_init_id:\n",
    "        restraint_idxs.append(i)\n",
    "        \n",
    "len(restraint_idxs)"
   ]
  },
  {
   "cell_type": "code",
   "execution_count": null,
   "metadata": {},
   "outputs": [],
   "source": [
    "final_exp_ids = []\n",
    "for idx in restraint_idxs:\n",
    "    final_exp_ids.append(exp_ids[idx])\n",
    "    \n",
    "final_exp_values = []\n",
    "for idx in restraint_idxs:\n",
    "    final_exp_values.append(exp_values[idx])\n",
    "    \n",
    "final_exp_errors = []\n",
    "for idx in restraint_idxs:\n",
    "    final_exp_errors.append(exp_errors[idx])\n",
    "    \n"
   ]
  },
  {
   "cell_type": "code",
   "execution_count": null,
   "metadata": {},
   "outputs": [],
   "source": [
    "remove_this_one = ''\n",
    "\n",
    "for string in r2_init_id:\n",
    "    if string not in final_exp_ids:\n",
    "        remove_this_one = string"
   ]
  },
  {
   "cell_type": "code",
   "execution_count": null,
   "metadata": {},
   "outputs": [],
   "source": [
    "exp_data = pd.DataFrame(list(zip(final_exp_ids, final_exp_values, final_exp_errors)), \n",
    "                        columns =['ID', 'exp_values','exp_errors'])\n",
    "exp_data"
   ]
  },
  {
   "cell_type": "code",
   "execution_count": null,
   "metadata": {},
   "outputs": [],
   "source": [
    "all_data2 = exp_data.merge(all_data, how = 'inner', on = ['ID'])\n",
    "final_all_data = all_data2.sort_values(['exp_values'], ascending=False)"
   ]
  },
  {
   "cell_type": "code",
   "execution_count": null,
   "metadata": {},
   "outputs": [],
   "source": [
    "# calculate reduced chi square for initial and optimised model\n",
    "def chi_square(predictions,targets,errors,reduced = False):\n",
    "    if len(predictions) != len(targets):\n",
    "        print(\"Error: Number of data points in predictions and targets are not the same!\")\n",
    "        \n",
    "    if reduced == False:\n",
    "        return np.sum(((predictions - targets) ** 2)/(errors**2))\n",
    "    \n",
    "    if reduced == True:\n",
    "        return np.sum(((predictions - targets) ** 2)/(errors**2))/len(targets)\n",
    "    \n",
    "init_chi = chi_square(np.array((final_all_data['ratios_init'])),np.array((final_all_data['exp_values'])),\n",
    "                     np.array((final_all_data['exp_errors'])),reduced = True)\n",
    "\n",
    "opt_chi = chi_square(np.array((final_all_data['ratios_opt'])),np.array((final_all_data['exp_values'])),\n",
    "                     np.array((final_all_data['exp_errors'])),reduced = True)\n",
    "\n",
    "print(init_chi)\n",
    "print(opt_chi)"
   ]
  },
  {
   "cell_type": "code",
   "execution_count": null,
   "metadata": {},
   "outputs": [],
   "source": [
    "# plot\n",
    "\n",
    "plt.figure(figsize = (12,4))\n",
    "plt.plot(final_all_data['ID'],final_all_data['exp_values'],'ko',label = 'Experiment',alpha = 0.4)\n",
    "plt.errorbar(final_all_data['ID'], final_all_data['exp_values'], final_all_data['exp_errors'],color = 'black',\n",
    "            alpha = 0.4)\n",
    "\n",
    "initial_string = 'Initial: Reduced $\\chi$$^2$ = {:.2f}'.format(init_chi)\n",
    "optimal_string = 'Optimal: Reduced $\\chi$$^2$ = {:.2f}'.format(opt_chi)\n",
    "\n",
    "plt.scatter(final_all_data['ID'],final_all_data['ratios_init'],color = 'red',alpha = 0.4,\n",
    "            label = initial_string)\n",
    "plt.scatter(final_all_data['ID'],final_all_data['ratios_opt'],color = 'blue',alpha = 0.4,label = optimal_string)\n",
    "\n",
    "plt.xticks([])\n",
    "plt.xlabel('Data points')\n",
    "plt.ylabel('Iox/Ired')\n",
    "plt.legend()\n",
    "#plt.savefig('exp_init_opt_used.png')"
   ]
  },
  {
   "cell_type": "code",
   "execution_count": null,
   "metadata": {},
   "outputs": [],
   "source": [
    "# plot\n",
    "plt.figure(figsize = (10,4))\n",
    "plt.plot(final_all_data['exp_ID'],final_all_data['exp_values'],'ko')\n",
    "plt.errorbar(final_all_data['exp_ID'], final_all_data['exp_values'], final_all_data['exp_errors'],color = 'black')\n",
    "\n",
    "plt.scatter(final_all_data['ID'],final_all_data['ratios_init'],color = 'red',alpha = 0.4)\n",
    "plt.scatter(final_all_data['ID'],final_all_data['ratios_opt'],color = 'blue',alpha = 0.4)"
   ]
  },
  {
   "cell_type": "code",
   "execution_count": null,
   "metadata": {},
   "outputs": [],
   "source": [
    "final_table = final_all_data.sort_values(by=[\"ID\"])"
   ]
  },
  {
   "cell_type": "code",
   "execution_count": null,
   "metadata": {},
   "outputs": [],
   "source": [
    "pd.set_option('display.max_rows', None)\n",
    "final_table"
   ]
  },
  {
   "cell_type": "code",
   "execution_count": null,
   "metadata": {},
   "outputs": [],
   "source": [
    "IDs = final_table['ID']\n",
    "exp_ratios = final_table['exp_values']\n",
    "exp_errors = final_table['exp_errors']\n",
    "init_ratios = final_table['ratios_init']\n",
    "opt_ratios = final_table['ratios_opt']"
   ]
  },
  {
   "cell_type": "code",
   "execution_count": null,
   "metadata": {},
   "outputs": [],
   "source": [
    "# plot\n",
    "\n",
    "#c657\n",
    "\n",
    "plt.figure(figsize = (10,4))\n",
    "plt.plot(IDs[0:37],exp_ratios[0:37],'ko',label = 'Experiment',alpha = 0.4)\n",
    "plt.errorbar(IDs[0:37], exp_ratios[0:37], exp_errors[0:37],color = 'black',\n",
    "            alpha = 0.4)\n",
    "\n",
    "initial_string = 'Initial: Reduced $\\chi$$^2$ = {:.2f}'.format(init_chi)\n",
    "optimal_string = 'Optimal: Reduced $\\chi$$^2$ = {:.2f}'.format(opt_chi)\n",
    "\n",
    "plt.scatter(IDs[0:37],init_ratios[0:37],color = 'red',alpha = 0.4,\n",
    "            label = initial_string)\n",
    "plt.scatter(IDs[0:37],opt_ratios[0:37],color = 'blue',alpha = 0.4,label = optimal_string)\n",
    "\n",
    "plt.xticks([])\n",
    "plt.xlabel('Data points')\n",
    "plt.ylabel('Iox/Ired')\n",
    "plt.legend()\n",
    "#plt.savefig('c657_exp_init_opt_used.png')"
   ]
  },
  {
   "cell_type": "code",
   "execution_count": null,
   "metadata": {},
   "outputs": [],
   "source": [
    "# plot\n",
    "\n",
    "#c699\n",
    "\n",
    "plt.figure(figsize = (10,4))\n",
    "plt.plot(IDs[38:87],exp_ratios[38:87],'ko',label = 'Experiment',alpha = 0.4)\n",
    "plt.errorbar(IDs[38:87], exp_ratios[38:87], exp_errors[38:87],color = 'black',\n",
    "            alpha = 0.4)\n",
    "\n",
    "initial_string = 'Initial: Reduced $\\chi$$^2$ = {:.2f}'.format(init_chi)\n",
    "optimal_string = 'Optimal: Reduced $\\chi$$^2$ = {:.2f}'.format(opt_chi)\n",
    "\n",
    "plt.scatter(IDs[38:87],init_ratios[38:87],color = 'red',alpha = 0.4,\n",
    "            label = initial_string)\n",
    "plt.scatter(IDs[38:87],opt_ratios[38:87],color = 'blue',alpha = 0.4,label = optimal_string)\n",
    "\n",
    "plt.xticks([])\n",
    "plt.xlabel('Data points')\n",
    "plt.ylabel('Iox/Ired')\n",
    "plt.legend()\n",
    "#plt.savefig('c699_exp_init_opt_used.png')"
   ]
  },
  {
   "cell_type": "code",
   "execution_count": null,
   "metadata": {},
   "outputs": [],
   "source": [
    "# plot\n",
    "\n",
    "#c744\n",
    "\n",
    "plt.figure(figsize = (10,4))\n",
    "plt.plot(IDs[87:119],exp_ratios[87:119],'ko',label = 'Experiment',alpha = 0.4)\n",
    "plt.errorbar(IDs[87:119], exp_ratios[87:119], exp_errors[87:119],color = 'black',\n",
    "            alpha = 0.4)\n",
    "\n",
    "initial_string = 'Initial: Reduced $\\chi$$^2$ = {:.2f}'.format(init_chi)\n",
    "optimal_string = 'Optimal: Reduced $\\chi$$^2$ = {:.2f}'.format(opt_chi)\n",
    "\n",
    "plt.scatter(IDs[87:119],init_ratios[87:119],color = 'red',alpha = 0.4,\n",
    "            label = initial_string)\n",
    "plt.scatter(IDs[87:119],opt_ratios[87:119],color = 'blue',alpha = 0.4,label = optimal_string)\n",
    "\n",
    "plt.xticks([])\n",
    "plt.xlabel('Data points')\n",
    "plt.ylabel('Iox/Ired')\n",
    "plt.legend()\n",
    "#plt.savefig('c744_exp_init_opt_used.png')"
   ]
  },
  {
   "cell_type": "code",
   "execution_count": null,
   "metadata": {},
   "outputs": [],
   "source": [
    "# plot\n",
    "\n",
    "plt.figure(figsize = (15,6))\n",
    "plt.bar(final_table['ID'],final_table['exp_values'],color = 'cyan',yerr = final_table['exp_errors'], \n",
    "        edgecolor = 'black',linewidth = 0.5,error_kw=dict(ecolor='black',elinewidth=0.5)\n",
    "       ,label = 'isolated A3A3 Exp. Data')\n",
    "\n",
    "initial_string = 'Initial: Reduced $\\chi$$^2$ = {:.2f}'.format(init_chi)\n",
    "optimal_string = 'Optimal: Reduced $\\chi$$^2$ = {:.2f}'.format(opt_chi)\n",
    "\n",
    "plt.plot(final_table['ID'],final_table['ratios_init'],'r-',\n",
    "            label = initial_string)\n",
    "plt.plot(final_table['ID'],final_table['ratios_opt'],'b-',label = optimal_string)\n",
    "\n",
    "plt.xticks([])\n",
    "plt.xlabel('Data points')\n",
    "plt.ylabel('Iox/Ired')\n",
    "plt.legend()\n",
    "#plt.savefig('reweighted_overlayed_pre_profile.png')"
   ]
  }
 ],
 "metadata": {
  "kernelspec": {
   "display_name": "Python 3",
   "language": "python",
   "name": "python3"
  },
  "language_info": {
   "codemirror_mode": {
    "name": "ipython",
    "version": 3
   },
   "file_extension": ".py",
   "mimetype": "text/x-python",
   "name": "python",
   "nbconvert_exporter": "python",
   "pygments_lexer": "ipython3",
   "version": "3.7.3"
  }
 },
 "nbformat": 4,
 "nbformat_minor": 2
}
